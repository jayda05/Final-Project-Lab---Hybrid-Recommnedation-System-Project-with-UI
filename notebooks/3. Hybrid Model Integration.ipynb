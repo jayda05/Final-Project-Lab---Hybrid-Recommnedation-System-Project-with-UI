{
  "nbformat": 4,
  "nbformat_minor": 0,
  "metadata": {
    "colab": {
      "provenance": []
    },
    "kernelspec": {
      "name": "python3",
      "display_name": "Python 3"
    },
    "language_info": {
      "name": "python"
    }
  },
  "cells": [
    {
      "cell_type": "code",
      "execution_count": 1,
      "metadata": {
        "colab": {
          "base_uri": "https://localhost:8080/"
        },
        "id": "8tFblwuyES6d",
        "outputId": "24a0bd2a-22ac-4565-a83f-a42050884a6a"
      },
      "outputs": [
        {
          "output_type": "stream",
          "name": "stdout",
          "text": [
            "Writing hybrid_model.py\n"
          ]
        }
      ],
      "source": [
        "#3. Hybrid Model Integration\n",
        "%%writefile hybrid_model.py\n",
        "import pandas as pd\n",
        "\n",
        "def hybrid_recommend(movies, content_sim, svd, user_id, movie_title, content_w=0.5, collab_w=0.5):\n",
        "    try:\n",
        "        movie_id = movies[movies['title'] == movie_title]['movieId'].values[0]\n",
        "        content = get_content_recommendations(movies, content_sim, movie_id)\n",
        "        content['score'] = content_w\n",
        "\n",
        "        collab = get_collab_recommendations(movies, ratings, svd, user_id)\n",
        "        collab['score'] = collab_w\n",
        "\n",
        "        hybrid = pd.concat([content, collab])\n",
        "        return hybrid.groupby(['movieId', 'title', 'genres']).agg({'score': 'sum'}).reset_index()\n",
        "    except Exception as e:\n",
        "        raise Exception(f\"Recommendation error: {e}\")"
      ]
    }
  ]
}