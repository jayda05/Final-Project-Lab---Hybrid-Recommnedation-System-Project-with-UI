{
  "nbformat": 4,
  "nbformat_minor": 0,
  "metadata": {
    "colab": {
      "provenance": []
    },
    "kernelspec": {
      "name": "python3",
      "display_name": "Python 3"
    },
    "language_info": {
      "name": "python"
    }
  },
  "cells": [
    {
      "cell_type": "code",
      "execution_count": 1,
      "metadata": {
        "colab": {
          "base_uri": "https://localhost:8080/"
        },
        "id": "72JEtntCDniz",
        "outputId": "773b58c9-b14c-4b70-dc3f-9c7a6c587095"
      },
      "outputs": [
        {
          "output_type": "stream",
          "name": "stdout",
          "text": [
            "Writing content_based.py\n"
          ]
        }
      ],
      "source": [
        "#2. Model Implementation\n",
        "%%writefile content_based.py\n",
        "import numpy as np\n",
        "from sklearn.feature_extraction.text import TfidfVectorizer\n",
        "from sklearn.metrics.pairwise import cosine_similarity\n",
        "\n",
        "def setup_content_model(movies):\n",
        "    tfidf = TfidfVectorizer(stop_words='english')\n",
        "    tfidf_matrix = tfidf.fit_transform(movies['genres'])\n",
        "    return cosine_similarity(tfidf_matrix)\n",
        "\n",
        "def get_content_recommendations(movies, cosine_sim, movie_id, top_n=10):\n",
        "    idx = movies.index[movies['movieId'] == movie_id].tolist()[0]\n",
        "    sim_scores = list(enumerate(cosine_sim[idx]))\n",
        "    sim_scores = sorted(sim_scores, key=lambda x: x[1], reverse=True)[1:top_n+1]\n",
        "    indices = [i[0] for i in sim_scores]\n",
        "    return movies.iloc[indices][['movieId', 'title', 'genres']]"
      ]
    },
    {
      "cell_type": "code",
      "source": [
        "# Create collaborative.py\n",
        "%%writefile collaborative.py\n",
        "\n",
        "\n",
        "from surprise import Dataset, Reader, SVD\n",
        "import numpy as np\n",
        "\n",
        "def setup_collaborative_model(ratings):\n",
        "    reader = Reader(rating_scale=(0.5, 5.0))\n",
        "    data = Dataset.load_from_df(ratings[['userId', 'movieId', 'rating']], reader)\n",
        "    trainset = data.build_full_trainset()\n",
        "    svd = SVD()\n",
        "    svd.fit(trainset)\n",
        "    return svd\n",
        "\n",
        "def get_collab_recommendations(movies, ratings, svd, user_id, top_n=10):\n",
        "    all_movie_ids = movies['movieId'].unique()\n",
        "    rated = ratings[ratings['userId'] == user_id]['movieId']\n",
        "    to_predict = np.setdiff1d(all_movie_ids, rated)\n",
        "    testset = [[user_id, mid, 4.] for mid in to_predict]\n",
        "    preds = svd.test(testset)\n",
        "    top_preds = sorted(preds, key=lambda x: x.est, reverse=True)[:top_n]\n",
        "    top_ids = [pred.iid for pred in top_preds]\n",
        "    return movies[movies['movieId'].isin(top_ids)][['movieId', 'title', 'genres']]"
      ],
      "metadata": {
        "colab": {
          "base_uri": "https://localhost:8080/"
        },
        "id": "6p6NcuqID9Nj",
        "outputId": "953f1c5a-093b-4592-e044-1b1ff17d87b5"
      },
      "execution_count": 2,
      "outputs": [
        {
          "output_type": "stream",
          "name": "stdout",
          "text": [
            "Writing collaborative.py\n"
          ]
        }
      ]
    }
  ]
}