{
  "nbformat": 4,
  "nbformat_minor": 0,
  "metadata": {
    "colab": {
      "provenance": []
    },
    "kernelspec": {
      "name": "python3",
      "display_name": "Python 3"
    },
    "language_info": {
      "name": "python"
    }
  },
  "cells": [
    {
      "cell_type": "code",
      "execution_count": 1,
      "metadata": {
        "id": "4EmkFyKZC9JU",
        "outputId": "03a6e0cd-b14d-40f0-fea0-facc47e52bf7",
        "colab": {
          "base_uri": "https://localhost:8080/"
        }
      },
      "outputs": [
        {
          "output_type": "stream",
          "name": "stdout",
          "text": [
            "Writing data_processing.py\n"
          ]
        }
      ],
      "source": [
        "#1. Data Processing Scripts\n",
        "%%writefile data_processing.py\n",
        "import pandas as pd\n",
        "\n",
        "def load_data():\n",
        "    movies = pd.read_csv('movies.csv')\n",
        "    ratings = pd.read_csv('ratings.csv')\n",
        "    movies['genres'] = movies['genres'].str.replace('|', ' ')\n",
        "    return movies.dropna(), ratings.dropna()"
      ]
    }
  ]
}