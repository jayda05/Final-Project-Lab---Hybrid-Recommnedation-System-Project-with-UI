{
  "nbformat": 4,
  "nbformat_minor": 0,
  "metadata": {
    "colab": {
      "provenance": []
    },
    "kernelspec": {
      "name": "python3",
      "display_name": "Python 3"
    },
    "language_info": {
      "name": "python"
    }
  },
  "cells": [
    {
      "cell_type": "code",
      "source": [
        "#4. User Interface\n",
        "import numpy as np\n",
        "#np.import_array()  # THIS IS CRITICAL - MUST BE CALLED BEFORE SURPRISE IMPORTS\n",
        "\n",
        "import streamlit as st\n",
        "from data_processing import load_data\n",
        "from content_based import setup_content_model, get_content_recommendations\n",
        "from collaborative import setup_collaborative_model, get_collab_recommendations\n",
        "from hybrid_model import hybrid_recommend\n",
        "import warnings\n",
        "warnings.filterwarnings('ignore')\n",
        "\n",
        "# Initialize with error handling\n",
        "try:\n",
        "    movies, ratings = load_data()\n",
        "    cosine_sim = setup_content_model(movies)\n",
        "    svd = setup_collaborative_model(ratings)\n",
        "except Exception as e:\n",
        "    st.error(f\"Initialization failed: {str(e)}\")\n",
        "    st.stop()\n",
        "\n",
        "# Streamlit UI\n",
        "st.set_page_config(page_title=\"Recommender System\", layout=\"wide\")\n",
        "st.title(\"🎬 Movie Recommender System\")\n",
        "\n",
        "app_mode = st.sidebar.radio(\"Choose mode\", [\"Home\", \"Content-Based\", \"Collaborative\", \"Hybrid\"])\n",
        "\n",
        "if app_mode == \"Home\":\n",
        "    st.markdown(\"## MovieLens Dataset Overview\")\n",
        "    st.write(f\"Total Movies: {len(movies)}\")\n",
        "    st.write(f\"Total Ratings: {len(ratings)}\")\n",
        "    st.write(f\"Total Users: {ratings['userId'].nunique()}\")\n",
        "    st.dataframe(movies.head(5))\n",
        "\n",
        "elif app_mode == \"Content-Based\":\n",
        "    movie = st.selectbox(\"Choose a movie\", sorted(movies['title'].unique()))\n",
        "    if st.button(\"Recommend Similar Movies\"):\n",
        "        mid = movies[movies['title'] == movie]['movieId'].values[0]\n",
        "        recs = get_content_recommendations(movies, cosine_sim, mid)  # Fixed missing args\n",
        "        st.write(recs)\n",
        "\n",
        "elif app_mode == \"Collaborative\":\n",
        "    uid = st.number_input(\"Enter User ID\", min_value=1, max_value=610, value=1)\n",
        "    if st.button(\"Recommend Movies\"):\n",
        "        recs = get_collab_recommendations(movies, ratings, svd, uid)  # Fixed missing args\n",
        "        st.write(recs)\n",
        "\n",
        "elif app_mode == \"Hybrid\":\n",
        "    uid = st.number_input(\"User ID\", min_value=1, max_value=610, value=1)\n",
        "    movie = st.selectbox(\"Your favorite movie\", sorted(movies['title'].unique()))\n",
        "    cw = st.slider(\"Content Weight\", 0.0, 1.0, 0.5)\n",
        "    mw = st.slider(\"Collaborative Weight\", 0.0, 1.0, 0.5)\n",
        "    if st.button(\"Get Hybrid Recommendations\"):\n",
        "        result = hybrid_recommend(movies, cosine_sim, svd, uid, movie, cw, mw)  # Fixed args\n",
        "        if result is not None:\n",
        "            st.write(result)"
      ],
      "metadata": {
        "colab": {
          "base_uri": "https://localhost:8080/"
        },
        "id": "YWP_Z9hxIu_S",
        "outputId": "9b66060a-bd17-4482-c94c-1e89fd3c5d09"
      },
      "execution_count": 5,
      "outputs": [
        {
          "output_type": "stream",
          "name": "stderr",
          "text": [
            "2025-05-09 22:22:45.786 Thread 'MainThread': missing ScriptRunContext! This warning can be ignored when running in bare mode.\n",
            "2025-05-09 22:22:45.787 Thread 'MainThread': missing ScriptRunContext! This warning can be ignored when running in bare mode.\n",
            "2025-05-09 22:22:45.790 Thread 'MainThread': missing ScriptRunContext! This warning can be ignored when running in bare mode.\n",
            "2025-05-09 22:22:45.791 Thread 'MainThread': missing ScriptRunContext! This warning can be ignored when running in bare mode.\n",
            "2025-05-09 22:22:45.792 Thread 'MainThread': missing ScriptRunContext! This warning can be ignored when running in bare mode.\n",
            "2025-05-09 22:22:45.793 Thread 'MainThread': missing ScriptRunContext! This warning can be ignored when running in bare mode.\n",
            "2025-05-09 22:22:45.794 Thread 'MainThread': missing ScriptRunContext! This warning can be ignored when running in bare mode.\n",
            "2025-05-09 22:22:45.795 Thread 'MainThread': missing ScriptRunContext! This warning can be ignored when running in bare mode.\n",
            "2025-05-09 22:22:45.796 Thread 'MainThread': missing ScriptRunContext! This warning can be ignored when running in bare mode.\n",
            "2025-05-09 22:22:45.798 Thread 'MainThread': missing ScriptRunContext! This warning can be ignored when running in bare mode.\n",
            "2025-05-09 22:22:45.800 Thread 'MainThread': missing ScriptRunContext! This warning can be ignored when running in bare mode.\n",
            "2025-05-09 22:22:45.801 Thread 'MainThread': missing ScriptRunContext! This warning can be ignored when running in bare mode.\n",
            "2025-05-09 22:22:45.802 Thread 'MainThread': missing ScriptRunContext! This warning can be ignored when running in bare mode.\n",
            "2025-05-09 22:22:45.803 Thread 'MainThread': missing ScriptRunContext! This warning can be ignored when running in bare mode.\n",
            "2025-05-09 22:22:45.804 Thread 'MainThread': missing ScriptRunContext! This warning can be ignored when running in bare mode.\n",
            "2025-05-09 22:22:45.808 Thread 'MainThread': missing ScriptRunContext! This warning can be ignored when running in bare mode.\n",
            "2025-05-09 22:22:45.809 Thread 'MainThread': missing ScriptRunContext! This warning can be ignored when running in bare mode.\n",
            "2025-05-09 22:22:45.812 Thread 'MainThread': missing ScriptRunContext! This warning can be ignored when running in bare mode.\n",
            "2025-05-09 22:22:45.813 Thread 'MainThread': missing ScriptRunContext! This warning can be ignored when running in bare mode.\n"
          ]
        }
      ]
    }
  ]
}